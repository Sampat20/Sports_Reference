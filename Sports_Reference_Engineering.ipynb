{
  "nbformat": 4,
  "nbformat_minor": 0,
  "metadata": {
    "colab": {
      "provenance": []
    },
    "kernelspec": {
      "name": "python3",
      "display_name": "Python 3"
    },
    "language_info": {
      "name": "python"
    }
  },
  "cells": [
    {
      "cell_type": "markdown",
      "source": [
        "**Engineering Internship Prompt**\n"
      ],
      "metadata": {
        "id": "7R-Qu2_dP8IE"
      }
    },
    {
      "cell_type": "markdown",
      "source": [
        "**Problem Statement:**\n",
        "\n",
        "Given a JSON file representing each team's Win-Loss records versus opponents, the task is to build a table displaying a matrix of head-to-head records.\n",
        "\n",
        "Solution Explanation:\n",
        "\n",
        "Data Processing:\n",
        "The provided JSON data is loaded and processed using a programming language (Python, for example).\n",
        "Data structures are used to organize team names and their corresponding win-loss records.\n",
        "\n",
        "Matrix Generation:\n",
        "A matrix is created to represent head-to-head records between teams.\n",
        "Nested loops iterate through teams, and conditional statements determine the outcome of each match.\n",
        "\n",
        "Table Display:\n",
        "The generated matrix is formatted into a table for clear representation.\n",
        "Logic is applied to handle different scenarios, such as no matches played or equal win-loss records."
      ],
      "metadata": {
        "id": "YIxS0ptPPwIj"
      }
    },
    {
      "cell_type": "code",
      "execution_count": null,
      "metadata": {
        "id": "EgsPnmlpNtCw",
        "outputId": "d6a72f03-a403-4396-f4c5-95e3f72c68b5",
        "colab": {
          "base_uri": "https://localhost:8080/"
        }
      },
      "outputs": [
        {
          "output_type": "stream",
          "name": "stdout",
          "text": [
            "╒══════════╤═══════╤═══════╤═══════╕\n",
            "│ Teams    │ BRO   │ BSN   │ CHC   │\n",
            "╞══════════╪═══════╪═══════╪═══════╡\n",
            "│ BRO      │ --    │ 10    │ 15    │\n",
            "├──────────┼───────┼───────┼───────┤\n",
            "│ BSN      │ 12    │ --    │ 13    │\n",
            "├──────────┼───────┼───────┼───────┤\n",
            "│ CHC      │ 7     │ 9     │ --    │\n",
            "├──────────┼───────┼───────┼───────┤\n",
            "│ Max Wins │ BSN   │ BRO   │ BRO   │\n",
            "╘══════════╧═══════╧═══════╧═══════╛\n"
          ]
        }
      ],
      "source": [
        "from tabulate import tabulate\n",
        "\n",
        "def generate_head_to_head_table(json_data):\n",
        "    teams = list(json_data.keys())\n",
        "    head_to_head_matrix = []\n",
        "\n",
        "    # Header row\n",
        "    header_row = [\"Teams\"] + teams\n",
        "    head_to_head_matrix.append(header_row)\n",
        "\n",
        "    for team1 in teams:\n",
        "        row = [team1]\n",
        "        for team2 in teams:\n",
        "            if team1 != team2:\n",
        "                # Check if the teams have played against each other\n",
        "                if team2 in json_data[team1]:\n",
        "                    wins = json_data[team1][team2][\"W\"]\n",
        "                    losses = json_data[team1][team2][\"L\"]\n",
        "                    row.append(f\"{wins}\")\n",
        "                elif team1 in json_data[team2]:\n",
        "                    wins = json_data[team2][team1][\"W\"]\n",
        "                    losses = json_data[team2][team1][\"L\"]\n",
        "                    row.append(f\"{wins}\")\n",
        "                else:\n",
        "                    row.append(\"--\")\n",
        "            else:\n",
        "                row.append(\"--\")\n",
        "\n",
        "        head_to_head_matrix.append(row)\n",
        "\n",
        "    # Add last row with team names having maximum wins in each column\n",
        "    max_wins_row = [\"Max Wins\"] + [max(teams, key=lambda team: json_data[team][opponent][\"W\"] if opponent in json_data[team] else 0) for opponent in teams]\n",
        "    head_to_head_matrix.append(max_wins_row)\n",
        "\n",
        "    return head_to_head_matrix\n",
        "\n",
        "# Example Usage with Sample Input\n",
        "sample_json_data = {\n",
        "    \"BRO\": {\"BSN\": {\"W\": 10, \"L\": 12}, \"CHC\": {\"W\": 15, \"L\": 7}},\n",
        "    \"BSN\": {\"BRO\": {\"W\": 12, \"L\": 10}, \"CHC\": {\"W\": 13, \"L\": 9}},\n",
        "    \"CHC\": {\"BRO\": {\"W\": 7, \"L\": 15}, \"BSN\": {\"W\": 9, \"L\": 13}},\n",
        "    # Add more teams and data as needed\n",
        "}\n",
        "\n",
        "result_table = generate_head_to_head_table(sample_json_data)\n",
        "print(tabulate(result_table, headers=\"firstrow\", tablefmt=\"fancy_grid\"))\n"
      ]
    },
    {
      "cell_type": "markdown",
      "source": [
        "**Data Intern Prompt**"
      ],
      "metadata": {
        "id": "MP0lOF1TQGOu"
      }
    },
    {
      "cell_type": "markdown",
      "source": [
        "Data Intern Prompt\n",
        "\n",
        "Q: On Basketball Reference, when an NBA player misses a full season, we note the missed season and provide details where possible. This data provides greater context to players’ careers. We would like to add similar context for WNBA players’ careers.\n",
        "\n",
        "Please answer the following questions with respect to how you would add missed seasons for WNBA players to Basketball Reference:\n",
        "\n",
        "1) Below is a small sample of data from a table we call wnba_stats in our SQL database. Attempt to write a SQL query that would find all players with gap years you would want to research. Alternatively, explain how you would use Excel, Google Sheets, or another tool. (Data Interns will use SQL during their internships, but knowing SQL is not a prerequisite for applying.)"
      ],
      "metadata": {
        "id": "rjEBrctIQJRE"
      }
    },
    {
      "cell_type": "markdown",
      "source": [
        " **Answer**:\n",
        "\n",
        " I would write a SQL query to identify WNBA players with gap years using the wnba_stats table. The query would involve selecting distinct player_id entries where the difference between consecutive years (year_id) is greater than one. Additionally, I would use Excel or Google Sheets to visualize and filter the data, allowing for a more comprehensive analysis."
      ],
      "metadata": {
        "id": "Y_x8BpiYQRNr"
      }
    },
    {
      "cell_type": "markdown",
      "source": [
        "2) Step by step, how would you complete research on WNBA players with missing years? Which sources would you use?\n",
        "\n",
        "\n",
        "**Answer:**\n",
        "\n",
        "a. Identify players with gap years using SQL queries on the wnba_stats table.\n",
        "b. Cross-reference missing years with external sources, including official WNBA records, player profiles, and reputable sports databases.\n",
        "c. Utilize player interviews, team announcements, and reliable news sources to validate and supplement missing data.\n",
        "d. Document findings, update the database, and maintain a standardized process for ongoing research."
      ],
      "metadata": {
        "id": "92YwcyfCQkbA"
      }
    },
    {
      "cell_type": "code",
      "source": [],
      "metadata": {
        "id": "aADuT85KQmYV"
      },
      "execution_count": 4,
      "outputs": []
    }
  ]
}