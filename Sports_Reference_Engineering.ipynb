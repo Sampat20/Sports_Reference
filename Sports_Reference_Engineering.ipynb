{
  "nbformat": 4,
  "nbformat_minor": 0,
  "metadata": {
    "colab": {
      "provenance": []
    },
    "kernelspec": {
      "name": "python3",
      "display_name": "Python 3"
    },
    "language_info": {
      "name": "python"
    }
  },
  "cells": [
    {
      "cell_type": "code",
      "execution_count": null,
      "metadata": {
        "id": "EgsPnmlpNtCw",
        "outputId": "d6a72f03-a403-4396-f4c5-95e3f72c68b5",
        "colab": {
          "base_uri": "https://localhost:8080/"
        }
      },
      "outputs": [
        {
          "output_type": "stream",
          "name": "stdout",
          "text": [
            "╒══════════╤═══════╤═══════╤═══════╕\n",
            "│ Teams    │ BRO   │ BSN   │ CHC   │\n",
            "╞══════════╪═══════╪═══════╪═══════╡\n",
            "│ BRO      │ --    │ 10    │ 15    │\n",
            "├──────────┼───────┼───────┼───────┤\n",
            "│ BSN      │ 12    │ --    │ 13    │\n",
            "├──────────┼───────┼───────┼───────┤\n",
            "│ CHC      │ 7     │ 9     │ --    │\n",
            "├──────────┼───────┼───────┼───────┤\n",
            "│ Max Wins │ BSN   │ BRO   │ BRO   │\n",
            "╘══════════╧═══════╧═══════╧═══════╛\n"
          ]
        }
      ],
      "source": [
        "from tabulate import tabulate\n",
        "\n",
        "def generate_head_to_head_table(json_data):\n",
        "    teams = list(json_data.keys())\n",
        "    head_to_head_matrix = []\n",
        "\n",
        "    # Header row\n",
        "    header_row = [\"Teams\"] + teams\n",
        "    head_to_head_matrix.append(header_row)\n",
        "\n",
        "    for team1 in teams:\n",
        "        row = [team1]\n",
        "        for team2 in teams:\n",
        "            if team1 != team2:\n",
        "                # Check if the teams have played against each other\n",
        "                if team2 in json_data[team1]:\n",
        "                    wins = json_data[team1][team2][\"W\"]\n",
        "                    losses = json_data[team1][team2][\"L\"]\n",
        "                    row.append(f\"{wins}\")\n",
        "                elif team1 in json_data[team2]:\n",
        "                    wins = json_data[team2][team1][\"W\"]\n",
        "                    losses = json_data[team2][team1][\"L\"]\n",
        "                    row.append(f\"{wins}\")\n",
        "                else:\n",
        "                    row.append(\"--\")\n",
        "            else:\n",
        "                row.append(\"--\")\n",
        "\n",
        "        head_to_head_matrix.append(row)\n",
        "\n",
        "    # Add last row with team names having maximum wins in each column\n",
        "    max_wins_row = [\"Max Wins\"] + [max(teams, key=lambda team: json_data[team][opponent][\"W\"] if opponent in json_data[team] else 0) for opponent in teams]\n",
        "    head_to_head_matrix.append(max_wins_row)\n",
        "\n",
        "    return head_to_head_matrix\n",
        "\n",
        "# Example Usage with Sample Input\n",
        "sample_json_data = {\n",
        "    \"BRO\": {\"BSN\": {\"W\": 10, \"L\": 12}, \"CHC\": {\"W\": 15, \"L\": 7}},\n",
        "    \"BSN\": {\"BRO\": {\"W\": 12, \"L\": 10}, \"CHC\": {\"W\": 13, \"L\": 9}},\n",
        "    \"CHC\": {\"BRO\": {\"W\": 7, \"L\": 15}, \"BSN\": {\"W\": 9, \"L\": 13}},\n",
        "    # Add more teams and data as needed\n",
        "}\n",
        "\n",
        "result_table = generate_head_to_head_table(sample_json_data)\n",
        "print(tabulate(result_table, headers=\"firstrow\", tablefmt=\"fancy_grid\"))\n"
      ]
    },
    {
      "cell_type": "code",
      "source": [],
      "metadata": {
        "id": "BekLtMoQNuQO"
      },
      "execution_count": null,
      "outputs": []
    }
  ]
}